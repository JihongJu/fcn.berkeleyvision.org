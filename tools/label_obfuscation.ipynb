{
 "cells": [
  {
   "cell_type": "code",
   "execution_count": 2,
   "metadata": {
    "collapsed": false
   },
   "outputs": [],
   "source": [
    "import numpy as np\n",
    "import matplotlib.pyplot as plt\n",
    "%matplotlib inline\n",
    "from PIL import Image\n",
    "\n",
    "# configure plotting\n",
    "plt.rcParams['figure.figsize'] = (10, 10)\n",
    "plt.rcParams['image.interpolation'] = 'nearest'\n",
    "plt.rcParams['image.cmap'] = 'gray'\n",
    "\n",
    "voc_dir = '../data/pascal-obfuscated/VOC2011'\n",
    "mean = (104.00699, 116.66877, 122.67892)"
   ]
  },
  {
   "cell_type": "code",
   "execution_count": 35,
   "metadata": {
    "collapsed": false
   },
   "outputs": [],
   "source": [
    "def load_image(idx):\n",
    "    \"\"\"\n",
    "    Load input image and preprocess for Caffe:\n",
    "    - cast to float\n",
    "    - switch channels RGB -> BGR\n",
    "    - subtract mean\n",
    "    - transpose to channel x height x width order\n",
    "    \"\"\"\n",
    "    im = Image.open('{}/JPEGImages/{}.jpg'.format(voc_dir, idx))\n",
    "    in_ = np.array(im, dtype=np.float32)\n",
    "    in_ = in_[:,:,::-1]\n",
    "    in_ -= mean\n",
    "    in_ = in_.transpose((2,0,1))\n",
    "    return in_\n",
    "\n",
    "def load_label(idx):\n",
    "    \"\"\"\n",
    "    Load label image as 1 x height x width integer array of label indices.\n",
    "    The leading singleton dimension is required by the loss.\n",
    "    \"\"\"\n",
    "    im = Image.open('{}/SegmentationClass/{}.png'.format(voc_dir, idx))\n",
    "    label = np.array(im, dtype=np.uint8)\n",
    "    label = label[np.newaxis, ...]\n",
    "    return label\n",
    "\n",
    "def obfuscate_label(label):\n",
    "    \"\"\"\n",
    "    Obfuscate label image with only two classes: foreground and background\n",
    "    \"\"\"\n",
    "    label[np.all([label != 0, label != 255], axis=0)]=1\n",
    "\n",
    "    return label"
   ]
  },
  {
   "cell_type": "code",
   "execution_count": 42,
   "metadata": {
    "collapsed": false
   },
   "outputs": [
    {
     "data": {
      "text/plain": [
       "<matplotlib.image.AxesImage at 0x7f46a81c9290>"
      ]
     },
     "execution_count": 42,
     "metadata": {},
     "output_type": "execute_result"
    },
    {
     "data": {
      "image/png": "[encoded data removed]",
      "text/plain": [
       "<matplotlib.figure.Figure at 0x7f46a8093f10>"
      ]
     },
     "metadata": {},
     "output_type": "display_data"
    }
   ],
   "source": [
    "idx = '2007_003742'\n",
    "label = load_label(idx)\n",
    "show = label[0,:,:]\n",
    "show[show==255]=0\n",
    "plt.imshow(show)"
   ]
  },
  {
   "cell_type": "code",
   "execution_count": 43,
   "metadata": {
    "collapsed": false
   },
   "outputs": [
    {
     "data": {
      "text/plain": [
       "<matplotlib.image.AxesImage at 0x7f46a7ff7490>"
      ]
     },
     "execution_count": 43,
     "metadata": {},
     "output_type": "execute_result"
    },
    {
     "data": {
      "image/png": "[encoded data removed]",
      "text/plain": [
       "<matplotlib.figure.Figure at 0x7f46aa3efcd0>"
      ]
     },
     "metadata": {},
     "output_type": "display_data"
    }
   ],
   "source": [
    "idx = '2007_003742'\n",
    "label = load_label(idx)\n",
    "label = obfuscate_label(label)\n",
    "show = label[0,:,:]\n",
    "show[show==255]=0\n",
    "plt.imshow(show)"
   ]
  },
  {
   "cell_type": "code",
   "execution_count": 45,
   "metadata": {
    "collapsed": false
   },
   "outputs": [
    {
     "name": "stdout",
     "output_type": "stream",
     "text": [
      "[[[0 0 0 ..., 0 0 0]\n",
      "  [0 0 0 ..., 0 0 0]\n",
      "  [0 0 0 ..., 0 0 0]\n",
      "  ..., \n",
      "  [1 1 1 ..., 1 1 1]\n",
      "  [1 1 1 ..., 1 1 1]\n",
      "  [1 1 1 ..., 1 1 1]]]\n",
      "uint8\n",
      "0 255\n",
      "(array([25161, 48971,     0,     0,     0,     0,     0,     0,     0,\n",
      "           0,     0,     0,     0,     0,     0,     0,     0,     0,\n",
      "           0,     0,     0,     0,     0,     0,     0,     0,     0,\n",
      "           0,     0,     0,     0,     0,     0,     0,     0,     0,\n",
      "           0,     0,     0,     0,     0,     0,     0,     0,     0,\n",
      "           0,     0,     0,     0,     0,     0,     0,     0,     0,\n",
      "           0,     0,     0,     0,     0,     0,     0,     0,     0,\n",
      "           0,     0,     0,     0,     0,     0,     0,     0,     0,\n",
      "           0,     0,     0,     0,     0,     0,     0,     0,     0,\n",
      "           0,     0,     0,     0,     0,     0,     0,     0,     0,\n",
      "           0,     0,     0,     0,     0,     0,     0,     0,     0,\n",
      "           0,     0,     0,     0,     0,     0,     0,     0,     0,\n",
      "           0,     0,     0,     0,     0,     0,     0,     0,     0,\n",
      "           0,     0,     0,     0,     0,     0,     0,     0,     0,\n",
      "           0,     0,     0,     0,     0,     0,     0,     0,     0,\n",
      "           0,     0,     0,     0,     0,     0,     0,     0,     0,\n",
      "           0,     0,     0,     0,     0,     0,     0,     0,     0,\n",
      "           0,     0,     0,     0,     0,     0,     0,     0,     0,\n",
      "           0,     0,     0,     0,     0,     0,     0,     0,     0,\n",
      "           0,     0,     0,     0,     0,     0,     0,     0,     0,\n",
      "           0,     0,     0,     0,     0,     0,     0,     0,     0,\n",
      "           0,     0,     0,     0,     0,     0,     0,     0,     0,\n",
      "           0,     0,     0,     0,     0,     0,     0,     0,     0,\n",
      "           0,     0,     0,     0,     0,     0,     0,     0,     0,\n",
      "           0,     0,     0,     0,     0,     0,     0,     0,     0,\n",
      "           0,     0,     0,     0,     0,     0,     0,     0,     0,\n",
      "           0,     0,     0,     0,     0,     0,     0,     0,     0,\n",
      "           0,     0,     0,     0,     0,     0,     0,     0,     0,\n",
      "           0,     0,  2668]), array([   0.,    1.,    2.,    3.,    4.,    5.,    6.,    7.,    8.,\n",
      "          9.,   10.,   11.,   12.,   13.,   14.,   15.,   16.,   17.,\n",
      "         18.,   19.,   20.,   21.,   22.,   23.,   24.,   25.,   26.,\n",
      "         27.,   28.,   29.,   30.,   31.,   32.,   33.,   34.,   35.,\n",
      "         36.,   37.,   38.,   39.,   40.,   41.,   42.,   43.,   44.,\n",
      "         45.,   46.,   47.,   48.,   49.,   50.,   51.,   52.,   53.,\n",
      "         54.,   55.,   56.,   57.,   58.,   59.,   60.,   61.,   62.,\n",
      "         63.,   64.,   65.,   66.,   67.,   68.,   69.,   70.,   71.,\n",
      "         72.,   73.,   74.,   75.,   76.,   77.,   78.,   79.,   80.,\n",
      "         81.,   82.,   83.,   84.,   85.,   86.,   87.,   88.,   89.,\n",
      "         90.,   91.,   92.,   93.,   94.,   95.,   96.,   97.,   98.,\n",
      "         99.,  100.,  101.,  102.,  103.,  104.,  105.,  106.,  107.,\n",
      "        108.,  109.,  110.,  111.,  112.,  113.,  114.,  115.,  116.,\n",
      "        117.,  118.,  119.,  120.,  121.,  122.,  123.,  124.,  125.,\n",
      "        126.,  127.,  128.,  129.,  130.,  131.,  132.,  133.,  134.,\n",
      "        135.,  136.,  137.,  138.,  139.,  140.,  141.,  142.,  143.,\n",
      "        144.,  145.,  146.,  147.,  148.,  149.,  150.,  151.,  152.,\n",
      "        153.,  154.,  155.,  156.,  157.,  158.,  159.,  160.,  161.,\n",
      "        162.,  163.,  164.,  165.,  166.,  167.,  168.,  169.,  170.,\n",
      "        171.,  172.,  173.,  174.,  175.,  176.,  177.,  178.,  179.,\n",
      "        180.,  181.,  182.,  183.,  184.,  185.,  186.,  187.,  188.,\n",
      "        189.,  190.,  191.,  192.,  193.,  194.,  195.,  196.,  197.,\n",
      "        198.,  199.,  200.,  201.,  202.,  203.,  204.,  205.,  206.,\n",
      "        207.,  208.,  209.,  210.,  211.,  212.,  213.,  214.,  215.,\n",
      "        216.,  217.,  218.,  219.,  220.,  221.,  222.,  223.,  224.,\n",
      "        225.,  226.,  227.,  228.,  229.,  230.,  231.,  232.,  233.,\n",
      "        234.,  235.,  236.,  237.,  238.,  239.,  240.,  241.,  242.,\n",
      "        243.,  244.,  245.,  246.,  247.,  248.,  249.,  250.,  251.,\n",
      "        252.,  253.,  254.,  255.]))\n"
     ]
    }
   ],
   "source": [
    "label = load_label(idx)\n",
    "label = obfuscate_label(label)\n",
    "print label\n",
    "print label.dtype\n",
    "values = label.flatten()\n",
    "print min(values), max(values)\n",
    "print np.histogram(values,bins=255)"
   ]
  },
  {
   "cell_type": "code",
   "execution_count": null,
   "metadata": {
    "collapsed": true
   },
   "outputs": [],
   "source": []
  }
 ],
 "metadata": {
  "kernelspec": {
   "display_name": "Python [Root]",
   "language": "python",
   "name": "Python [Root]"
  },
  "language_info": {
   "codemirror_mode": {
    "name": "ipython",
    "version": 2
   },
   "file_extension": ".py",
   "mimetype": "text/x-python",
   "name": "python",
   "nbconvert_exporter": "python",
   "pygments_lexer": "ipython2",
   "version": "2.7.12"
  }
 },
 "nbformat": 4,
 "nbformat_minor": 0
}
