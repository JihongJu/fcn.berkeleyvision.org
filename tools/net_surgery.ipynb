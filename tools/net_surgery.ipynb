{
 "cells": [
  {
   "cell_type": "code",
   "execution_count": 2,
   "metadata": {
    "collapsed": false
   },
   "outputs": [],
   "source": [
    "import caffe\n",
    "import surgery, score\n",
    "\n",
    "import numpy as np\n",
    "import os\n",
    "\n",
    "import setproctitle\n",
    "setproctitle.setproctitle(os.path.basename(os.getcwd()))"
   ]
  },
  {
   "cell_type": "code",
   "execution_count": 3,
   "metadata": {
    "collapsed": false
   },
   "outputs": [],
   "source": [
    "# Load the original network and extract the fully connected layers' parameters.\n",
    "base_net = caffe.Net('../models/vgg16/VGG_ILSVRC_16_layers_deploy.prototxt', \n",
    "                '../models/vgg16/VGG_ILSVRC_16_layers.caffemodel',\n",
    "                caffe.TEST)\n",
    "base_net.params"
   ]
  },
  {
   "cell_type": "code",
   "execution_count": 5,
   "metadata": {
    "collapsed": false
   },
   "outputs": [],
   "source": [
    "new_net = caffe.Net('../voc-fcn8s-atonce/val.prototxt',\n",
    "                   caffe.TEST)\n",
    "new_net.params"
   ]
  },
  {
   "cell_type": "code",
   "execution_count": 7,
   "metadata": {
    "collapsed": false
   },
   "outputs": [
    {
     "name": "stdout",
     "output_type": "stream",
     "text": [
      "copying conv1_1  ->  conv1_1 0\n",
      "copying conv1_1  ->  conv1_1 1\n",
      "copying conv1_2  ->  conv1_2 0\n",
      "copying conv1_2  ->  conv1_2 1\n",
      "copying conv2_1  ->  conv2_1 0\n",
      "copying conv2_1  ->  conv2_1 1\n",
      "copying conv2_2  ->  conv2_2 0\n",
      "copying conv2_2  ->  conv2_2 1\n",
      "copying conv3_1  ->  conv3_1 0\n",
      "copying conv3_1  ->  conv3_1 1\n",
      "copying conv3_2  ->  conv3_2 0\n",
      "copying conv3_2  ->  conv3_2 1\n",
      "copying conv3_3  ->  conv3_3 0\n",
      "copying conv3_3  ->  conv3_3 1\n",
      "copying conv4_1  ->  conv4_1 0\n",
      "copying conv4_1  ->  conv4_1 1\n",
      "copying conv4_2  ->  conv4_2 0\n",
      "copying conv4_2  ->  conv4_2 1\n",
      "copying conv4_3  ->  conv4_3 0\n",
      "copying conv4_3  ->  conv4_3 1\n",
      "copying conv5_1  ->  conv5_1 0\n",
      "copying conv5_1  ->  conv5_1 1\n",
      "copying conv5_2  ->  conv5_2 0\n",
      "copying conv5_2  ->  conv5_2 1\n",
      "copying conv5_3  ->  conv5_3 0\n",
      "copying conv5_3  ->  conv5_3 1\n",
      "coercing fc6 0 from (4096, 25088) to (4096, 512, 7, 7)\n",
      "copying fc6  ->  fc6 1\n",
      "coercing fc7 0 from (4096, 4096) to (4096, 4096, 1, 1)\n",
      "copying fc7  ->  fc7 1\n",
      "dropping fc8\n"
     ]
    }
   ],
   "source": [
    "surgery.transplant(new_net, base_net)"
   ]
  },
  {
   "cell_type": "code",
   "execution_count": 8,
   "metadata": {
    "collapsed": true
   },
   "outputs": [],
   "source": [
    "new_net.save('../ilsvrc-nets/vgg16-fcn.caffemodel')"
   ]
  }
 ],
 "metadata": {
  "kernelspec": {
   "display_name": "Python [Root]",
   "language": "python",
   "name": "Python [Root]"
  },
  "language_info": {
   "codemirror_mode": {
    "name": "ipython",
    "version": 2
   },
   "file_extension": ".py",
   "mimetype": "text/x-python",
   "name": "python",
   "nbconvert_exporter": "python",
   "pygments_lexer": "ipython2",
   "version": "2.7.12"
  }
 },
 "nbformat": 4,
 "nbformat_minor": 0
}
